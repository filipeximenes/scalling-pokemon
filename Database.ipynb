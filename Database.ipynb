{
 "cells": [
  {
   "cell_type": "code",
   "execution_count": null,
   "metadata": {},
   "outputs": [],
   "source": [
    "%load_ext sql\n",
    "%sql sqlite:///pokemon.sqlite\n",
    "from utils import *"
   ]
  },
  {
   "cell_type": "markdown",
   "metadata": {
    "slideshow": {
     "slide_type": "slide"
    }
   },
   "source": [
    "``` python\n",
    "from django.db import models\n",
    "\n",
    "\n",
    "class PokemonKind(models.Model):\n",
    "    name = models.TextField(blank=True, null=True)\n",
    "    type1 = models.IntegerField(blank=True, null=True)\n",
    "    type2 = models.IntegerField(blank=True, null=True)\n",
    "\n",
    "\n",
    "class Trainer(models.Model):\n",
    "    name = models.TextField(blank=True, null=True)\n",
    "    pokedex = models.ManyToManyField(PokemonKind, through='Pokemon')\n",
    "\n",
    "    favorite_pokemon = models.ForeignKey(\n",
    "        PokemonKind, models.SET_NULL, null=True, related_name='+')\n",
    "\n",
    "\n",
    "class Pokemon(models.Model):\n",
    "    trainer = models.ForeignKey(\n",
    "        Trainer, models.CASCADE, related_name='pokemons')\n",
    "    pokemon_kind = models.ForeignKey(PokemonKind, models.CASCADE)\n",
    "    pokelevel = models.IntegerField(blank=True, null=True)\n",
    "\n",
    "```"
   ]
  },
  {
   "cell_type": "code",
   "execution_count": null,
   "metadata": {
    "slideshow": {
     "slide_type": "slide"
    }
   },
   "outputs": [],
   "source": [
    "def view_trainers(limit=None, show=False):\n",
    "    trainers = Trainer.objects.all()\n",
    "    if limit:\n",
    "        trainers = trainers[:limit]\n",
    "        \n",
    "    render('trainers.html', context={'trainers': trainers}, show=show)"
   ]
  },
  {
   "cell_type": "code",
   "execution_count": null,
   "metadata": {},
   "outputs": [],
   "source": [
    "# Visualizando o que a view retorna\n",
    "\n",
    "view_trainers(limit=3, show=True)"
   ]
  },
  {
   "cell_type": "code",
   "execution_count": null,
   "metadata": {},
   "outputs": [],
   "source": [
    "Trainer.objects.count()"
   ]
  },
  {
   "cell_type": "markdown",
   "metadata": {},
   "source": [
    "#### Chronometrando seu código\n",
    "\n",
    "``` python\n",
    "import timeit as pytimeit\n",
    "\n",
    "def timeit(func):\n",
    "    total = pytimeit.timeit(func, number=1)\n",
    "    print('Ran in:', total)\n",
    "```"
   ]
  },
  {
   "cell_type": "code",
   "execution_count": null,
   "metadata": {},
   "outputs": [],
   "source": [
    "timeit(view_trainers)"
   ]
  },
  {
   "cell_type": "markdown",
   "metadata": {},
   "source": [
    "# Investigando a quantidade de consultas ao Banco de Dados"
   ]
  },
  {
   "cell_type": "code",
   "execution_count": null,
   "metadata": {},
   "outputs": [],
   "source": [
    "# Objeto \"connection\"\n",
    "\n",
    "from django.db import reset_queries\n",
    "from django.db import connection\n",
    "\n",
    "reset_queries()\n",
    "\n",
    "print(\"Queries:\", connection.queries)\n",
    "\n",
    "Trainer.objects.count()\n",
    "\n",
    "print(\"Queries:\", connection.queries)"
   ]
  },
  {
   "cell_type": "markdown",
   "metadata": {},
   "source": [
    "#### Contando queries\n",
    "\n",
    "``` python\n",
    "class count_queries:\n",
    "    def __enter__(self):\n",
    "        self.count = len(connection.queries)\n",
    "        return self\n",
    "\n",
    "    def __exit__(self, *args, **kwargs):\n",
    "        res = len(connection.queries) - self.count\n",
    "        print('Number of queries:', res)\n",
    "```"
   ]
  },
  {
   "cell_type": "code",
   "execution_count": null,
   "metadata": {},
   "outputs": [],
   "source": [
    "with count_queries():\n",
    "    view_trainers(limit=100)"
   ]
  },
  {
   "cell_type": "code",
   "execution_count": null,
   "metadata": {},
   "outputs": [],
   "source": [
    "display_template('trainers.html')"
   ]
  },
  {
   "cell_type": "code",
   "execution_count": null,
   "metadata": {},
   "outputs": [],
   "source": [
    "with count_queries() as m:\n",
    "    trainers = Trainer.objects.all()[:100]\n",
    "    \n",
    "    for t in trainers:\n",
    "        t.favorite_pokemon.name\n",
    "        \n",
    "pretty(m.queries[:10])"
   ]
  },
  {
   "cell_type": "code",
   "execution_count": null,
   "metadata": {},
   "outputs": [],
   "source": [
    "trainers_query = m.queries[0]\n",
    "print(trainers_query)"
   ]
  },
  {
   "cell_type": "code",
   "execution_count": null,
   "metadata": {},
   "outputs": [],
   "source": [
    "%sql $trainers_query"
   ]
  },
  {
   "cell_type": "code",
   "execution_count": null,
   "metadata": {},
   "outputs": [],
   "source": [
    "pokemon_query = m.queries[1]\n",
    "print(pokemon_query)"
   ]
  },
  {
   "cell_type": "code",
   "execution_count": null,
   "metadata": {},
   "outputs": [],
   "source": [
    "%sql $pokemon_query"
   ]
  },
  {
   "cell_type": "code",
   "execution_count": null,
   "metadata": {},
   "outputs": [],
   "source": [
    "query = (\n",
    "    'SELECT *'\n",
    "    'FROM \"Trainer\" LEFT OUTER JOIN \"PokemonKind\"'\n",
    "    'ON (\"Trainer\".\"favorite_pokemon_id\" = \"PokemonKind\".\"id\")'\n",
    "    'LIMIT 100'\n",
    ")\n",
    "%sql $query"
   ]
  },
  {
   "cell_type": "code",
   "execution_count": null,
   "metadata": {},
   "outputs": [],
   "source": [
    "with count_queries() as m:\n",
    "    trainers = Trainer.objects.select_related('favorite_pokemon').all()[:100]\n",
    "    \n",
    "    for t in trainers:\n",
    "        t.favorite_pokemon.name\n",
    "        \n",
    "print(m.queries[0])"
   ]
  },
  {
   "cell_type": "code",
   "execution_count": null,
   "metadata": {},
   "outputs": [],
   "source": [
    "def view_trainers(limit=None):\n",
    "    trainers = Trainer.objects.select_related(\"favorite_pokemon\").all()\n",
    "    \n",
    "    if limit:\n",
    "        trainers = trainers[:limit]\n",
    "        \n",
    "    render('trainers.html', context={'trainers': trainers})\n",
    "    \n",
    "\n",
    "with count_queries():\n",
    "    view_trainers(limit=100)"
   ]
  },
  {
   "cell_type": "code",
   "execution_count": null,
   "metadata": {},
   "outputs": [],
   "source": [
    "display_template('trainers.html')"
   ]
  },
  {
   "cell_type": "code",
   "execution_count": null,
   "metadata": {},
   "outputs": [],
   "source": [
    "with count_queries() as m:\n",
    "    trainers = Trainer.objects.all()[:100]\n",
    "    \n",
    "    for t in trainers:\n",
    "        for p in t.pokemons.all():\n",
    "            p.pokelevel"
   ]
  },
  {
   "cell_type": "code",
   "execution_count": null,
   "metadata": {},
   "outputs": [],
   "source": [
    "Trainer.objects.select_related('pokemons').all()"
   ]
  },
  {
   "cell_type": "code",
   "execution_count": null,
   "metadata": {},
   "outputs": [],
   "source": [
    "with count_queries() as m:\n",
    "    trainers = Trainer.objects.prefetch_related('pokemons').all()[:100]\n",
    "    \n",
    "    for t in trainers:\n",
    "        for p in t.pokemons.all():\n",
    "            p.pokelevel"
   ]
  },
  {
   "cell_type": "code",
   "execution_count": null,
   "metadata": {},
   "outputs": [],
   "source": [
    "query = m.queries[0]\n",
    "print(query)"
   ]
  },
  {
   "cell_type": "code",
   "execution_count": null,
   "metadata": {},
   "outputs": [],
   "source": [
    "query = m.queries[1]\n",
    "print(query)"
   ]
  },
  {
   "cell_type": "code",
   "execution_count": null,
   "metadata": {},
   "outputs": [],
   "source": [
    "def view_trainers(limit=None):\n",
    "    trainers = (\n",
    "        Trainer.objects\n",
    "        .select_related(\"favorite_pokemon\")\n",
    "        .prefetch_related('pokemons')\n",
    "        .all()\n",
    "    )\n",
    "    \n",
    "    if limit:\n",
    "        trainers = trainers[:limit]\n",
    "        \n",
    "    render('trainers.html', context={'trainers': trainers})\n",
    "    \n",
    "\n",
    "with count_queries():\n",
    "    view_trainers(limit=100)"
   ]
  },
  {
   "cell_type": "code",
   "execution_count": null,
   "metadata": {},
   "outputs": [],
   "source": [
    "display_template('trainers.html')"
   ]
  },
  {
   "cell_type": "code",
   "execution_count": null,
   "metadata": {},
   "outputs": [],
   "source": [
    "with count_queries() as m:\n",
    "    trainers = (\n",
    "        Trainer.objects\n",
    "        .prefetch_related('pokemons', 'pokemons__pokemon_kind')\n",
    "        .all()[:100]\n",
    "    )\n",
    "    \n",
    "    for t in trainers:\n",
    "        for p in t.pokemons.all():\n",
    "            p.pokemon_kind.name"
   ]
  },
  {
   "cell_type": "markdown",
   "metadata": {},
   "source": [
    "# Testando as melhorias"
   ]
  },
  {
   "cell_type": "code",
   "execution_count": null,
   "metadata": {},
   "outputs": [],
   "source": [
    "def view_trainers():\n",
    "    trainers = (\n",
    "        Trainer.objects\n",
    "        .select_related('favorite_pokemon')\n",
    "        .prefetch_related('pokemons', 'pokemons__pokemon_kind')\n",
    "        .all()\n",
    "    )\n",
    "        \n",
    "    render('trainers.html', context={'trainers': trainers})\n",
    "    \n",
    "\n",
    "with count_queries():\n",
    "    timeit(view_trainers)"
   ]
  },
  {
   "cell_type": "markdown",
   "metadata": {},
   "source": [
    "# Delegando o trabalho para o Banco de dados"
   ]
  },
  {
   "cell_type": "code",
   "execution_count": null,
   "metadata": {},
   "outputs": [],
   "source": [
    "def calculate_averages():\n",
    "    trainers = (\n",
    "        Trainer.objects\n",
    "        .prefetch_related('pokemons')\n",
    "        .all()\n",
    "    )\n",
    "\n",
    "    for trainer in trainers:\n",
    "        pokemons = trainer.pokemons.all()\n",
    "        \n",
    "        trainer.avg_level = (\n",
    "            sum([p.pokelevel for p in pokemons]) / len(pokemons)\n",
    "        ) if pokemons else 0\n",
    "        \n",
    "    return trainers\n",
    "\n",
    "\n",
    "timeit(calculate_averages)\n",
    "\n",
    "with count_queries() as m:\n",
    "    trainers = calculate_averages()\n",
    "\n",
    "print()\n",
    "print(f'Treinador: {trainers[0].name}')\n",
    "print(f'Média de level: {trainers[0].avg_level}')\n",
    "print()\n",
    "print(m.queries)"
   ]
  },
  {
   "cell_type": "code",
   "execution_count": null,
   "metadata": {},
   "outputs": [],
   "source": [
    "from django.db.models import Avg\n",
    "\n",
    "def calculate_averages():\n",
    "    return list(\n",
    "        Trainer.objects\n",
    "        .annotate(avg_level=Avg('pokemons__pokelevel'))\n",
    "        .order_by('id').all()\n",
    "    )\n",
    "\n",
    "timeit(calculate_averages)\n",
    "\n",
    "with count_queries() as m:\n",
    "    trainers = calculate_averages()\n",
    "\n",
    "\n",
    "print()\n",
    "print(f'Treinador: {trainers[0].name}')\n",
    "print(f'Média de level: {trainers[0].avg_level}')\n",
    "print()\n",
    "print(m.queries)"
   ]
  },
  {
   "cell_type": "markdown",
   "metadata": {},
   "source": [
    "# Escrevendo Testes"
   ]
  },
  {
   "cell_type": "markdown",
   "metadata": {},
   "source": [
    "1. Instancie um objeto da forma mais completa possível (atenção para relacionamentos)\n",
    "2. Teste o número de queries ao banco de dados.\n",
    "3. Instancie um novo objeto.\n",
    "4. Teste o número de queries ao banco de dados permanece o mesmo.\n",
    "\n",
    "``` python\n",
    "from django.test import TestCase\n",
    "\n",
    "class TestView(TestCase):\n",
    "    \n",
    "    def test_number_of_queries(self):\n",
    "        trainer1 = Trainer.objects.create(name=\"New\")\n",
    "        charizard = PokemonKind.objects.get(id=333)\n",
    "        Pokemon.objects.create(\n",
    "            trainer=trainer1, \n",
    "            pokemon_kind=charizard,\n",
    "        )\n",
    "        \n",
    "        with self.assertNumQueries(2):\n",
    "            calcular_medias()\n",
    "            \n",
    "        trainer2 = Trainer.objects.create(name=\"Other\")\n",
    "        bulbasaur = PokemonKind.objects.get(id=222)\n",
    "        Pokemon.objects.create(\n",
    "            trainer=trainer2, \n",
    "            pokemon_kind=bulbasaur,\n",
    "        )        \n",
    "            \n",
    "        with self.assertNumQueries(2):\n",
    "            calcular_medias()\n",
    "```"
   ]
  }
 ],
 "metadata": {
  "kernelspec": {
   "display_name": "Python 3",
   "language": "python",
   "name": "python3"
  },
  "language_info": {
   "codemirror_mode": {
    "name": "ipython",
    "version": 3
   },
   "file_extension": ".py",
   "mimetype": "text/x-python",
   "name": "python",
   "nbconvert_exporter": "python",
   "pygments_lexer": "ipython3",
   "version": "3.6.9"
  }
 },
 "nbformat": 4,
 "nbformat_minor": 2
}
