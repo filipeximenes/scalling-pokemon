{
 "cells": [
  {
   "cell_type": "code",
   "execution_count": 7,
   "metadata": {},
   "outputs": [],
   "source": [
    "%load_ext sql\n",
    "%sql sqlite:///pokemon.sqlite\n",
    "from utils import *"
   ]
  },
  {
   "cell_type": "code",
   "execution_count": null,
   "metadata": {},
   "outputs": [],
   "source": [
    "def view_trainadores(limite=None, mostrar=False):\n",
    "    treinadores = Trainer.objects.all()\n",
    "    if limite:\n",
    "        treinadores = treinadores[:limite]\n",
    "        \n",
    "    render('trainers.html', context={'trainers': treinadores}, show=mostrar)"
   ]
  },
  {
   "cell_type": "code",
   "execution_count": null,
   "metadata": {},
   "outputs": [],
   "source": [
    "# Visualizando o que a view retorna\n",
    "\n",
    "view_trainadores(limite=3, mostrar=True)"
   ]
  },
  {
   "cell_type": "code",
   "execution_count": 2,
   "metadata": {},
   "outputs": [
    {
     "data": {
      "text/plain": [
       "11860"
      ]
     },
     "execution_count": 2,
     "metadata": {},
     "output_type": "execute_result"
    }
   ],
   "source": [
    "Trainer.objects.count()"
   ]
  },
  {
   "cell_type": "markdown",
   "metadata": {},
   "source": [
    "#### Chronometrando seu código\n",
    "\n",
    "``` python\n",
    "import timeit as pytimeit\n",
    "\n",
    "def timeit(func):\n",
    "    total = pytimeit.timeit(func, number=1)\n",
    "    print('Ran in:', total)\n",
    "```"
   ]
  },
  {
   "cell_type": "code",
   "execution_count": null,
   "metadata": {},
   "outputs": [],
   "source": [
    "timeit(view_trainadores)"
   ]
  },
  {
   "cell_type": "markdown",
   "metadata": {},
   "source": [
    "# Investigando a quantidade de consultas ao Banco de Dados"
   ]
  },
  {
   "cell_type": "code",
   "execution_count": 4,
   "metadata": {},
   "outputs": [
    {
     "name": "stdout",
     "output_type": "stream",
     "text": [
      "Queries: []\n",
      "Queries: [{'sql': 'SELECT COUNT(*) AS \"__count\" FROM \"Trainer\"', 'time': '0.001'}]\n"
     ]
    }
   ],
   "source": [
    "# Objeto \"connection\"\n",
    "from django.db import reset_queries\n",
    "from django.db import connection\n",
    "\n",
    "reset_queries()\n",
    "\n",
    "print(\"Queries:\", connection.queries)\n",
    "\n",
    "Trainer.objects.count()\n",
    "\n",
    "print(\"Queries:\", connection.queries)"
   ]
  },
  {
   "cell_type": "markdown",
   "metadata": {},
   "source": [
    "#### Contando queries\n",
    "\n",
    "``` python\n",
    "class count_queries:\n",
    "    def __init__(self):\n",
    "        self.queries = []\n",
    "\n",
    "    def __enter__(self):\n",
    "        self.initial = len(connection.queries)\n",
    "        return self\n",
    "\n",
    "    def __exit__(self, *args, **kwargs):\n",
    "        self.queries = [q['sql'] for q in connection.queries[self.initial:]]\n",
    "        print('Number of queries:', len(self.queries))\n",
    "```"
   ]
  },
  {
   "cell_type": "code",
   "execution_count": null,
   "metadata": {},
   "outputs": [],
   "source": [
    "with count_queries():\n",
    "    view_trainadores(limite=100)"
   ]
  },
  {
   "cell_type": "code",
   "execution_count": 8,
   "metadata": {},
   "outputs": [
    {
     "data": {
      "text/html": [
       "<pre>{% for t in trainers %}\n",
       "  &lt;strong&gt;Nome:&lt;/strong&gt; {{ t.name }}&lt;/br&gt;\n",
       "  &lt;strong&gt;Pokemon Favorito:&lt;/strong&gt; {{ t.favorite_pokemon.name }}&lt;/br&gt;\n",
       "  &lt;strong&gt;Lista de Pokemons:&lt;/strong&gt;&lt;/br&gt;\n",
       "  {% for p in t.pokemons.all %}\n",
       "    {{ forloop.counter }}. {{ p.pokemon_kind.name }} (Lv. {{ p.pokelevel }})&lt;/br&gt;\n",
       "  {% endfor %}\n",
       "  ---------------------------------------&lt;/br&gt;\n",
       "{% endfor %}\n",
       "</pre>"
      ],
      "text/plain": [
       "<IPython.core.display.HTML object>"
      ]
     },
     "metadata": {},
     "output_type": "display_data"
    }
   ],
   "source": [
    "display_template('trainers.html')"
   ]
  },
  {
   "cell_type": "code",
   "execution_count": null,
   "metadata": {},
   "outputs": [],
   "source": [
    "with count_queries() as m:\n",
    "    treinadores = Trainer.objects.all()[:100]\n",
    "    \n",
    "    for t in treinadores:\n",
    "        t.favorite_pokemon.name\n",
    "        \n",
    "pretty(m.queries[:10])"
   ]
  },
  {
   "cell_type": "code",
   "execution_count": null,
   "metadata": {},
   "outputs": [],
   "source": [
    "consulta_treinadores = m.queries[0]\n",
    "print(consulta_treinadores)"
   ]
  },
  {
   "cell_type": "code",
   "execution_count": null,
   "metadata": {},
   "outputs": [],
   "source": [
    "%sql $consulta_treinadores"
   ]
  },
  {
   "cell_type": "code",
   "execution_count": null,
   "metadata": {},
   "outputs": [],
   "source": [
    "consulta_pokemon = m.queries[1]\n",
    "print(consulta_pokemon)"
   ]
  },
  {
   "cell_type": "code",
   "execution_count": null,
   "metadata": {},
   "outputs": [],
   "source": [
    "%sql $consulta_pokemon"
   ]
  },
  {
   "cell_type": "code",
   "execution_count": null,
   "metadata": {},
   "outputs": [],
   "source": [
    "query = (\n",
    "    'SELECT *'\n",
    "    'FROM \"Trainer\" LEFT OUTER JOIN \"PokemonKind\"'\n",
    "    'ON (\"Trainer\".\"favorite_pokemon_id\" = \"PokemonKind\".\"id\")'\n",
    "    'LIMIT 100'\n",
    ")\n",
    "%sql $query"
   ]
  },
  {
   "cell_type": "code",
   "execution_count": null,
   "metadata": {},
   "outputs": [],
   "source": [
    "with count_queries() as m:\n",
    "    treinadores = Trainer.objects.select_related('favorite_pokemon').all()[:100]\n",
    "    \n",
    "    for t in treinadores:\n",
    "        t.favorite_pokemon.name\n",
    "        \n",
    "print(m.queries[0])"
   ]
  },
  {
   "cell_type": "code",
   "execution_count": null,
   "metadata": {},
   "outputs": [],
   "source": [
    "def view_trainadores(limite=None):\n",
    "    treinadores = Trainer.objects.select_related(\"favorite_pokemon\").all()\n",
    "    \n",
    "    if limite:\n",
    "        treinadores = treinadores[:limite]\n",
    "        \n",
    "    render('trainers.html', context={'trainers': treinadores})\n",
    "    \n",
    "\n",
    "with count_queries():\n",
    "    view_trainadores(limite=100)"
   ]
  },
  {
   "cell_type": "code",
   "execution_count": null,
   "metadata": {},
   "outputs": [],
   "source": [
    "display_template('trainers.html')"
   ]
  },
  {
   "cell_type": "code",
   "execution_count": null,
   "metadata": {},
   "outputs": [],
   "source": [
    "with count_queries() as m:\n",
    "    treinadores = Trainer.objects.all()[:100]\n",
    "    \n",
    "    for t in treinadores:\n",
    "        for p in t.pokemons.all():\n",
    "            p.pokelevel"
   ]
  },
  {
   "cell_type": "code",
   "execution_count": null,
   "metadata": {},
   "outputs": [],
   "source": [
    "Trainer.objects.select_related('pokemons').all()"
   ]
  },
  {
   "cell_type": "code",
   "execution_count": null,
   "metadata": {},
   "outputs": [],
   "source": [
    "with count_queries() as m:\n",
    "    treinadores = Trainer.objects.prefetch_related('pokemons').all()[:100]\n",
    "    \n",
    "    for t in treinadores:\n",
    "        for p in t.pokemons.all():\n",
    "            p.pokelevel"
   ]
  },
  {
   "cell_type": "code",
   "execution_count": null,
   "metadata": {},
   "outputs": [],
   "source": [
    "consulta = m.queries[0]\n",
    "print(consulta)"
   ]
  },
  {
   "cell_type": "code",
   "execution_count": null,
   "metadata": {},
   "outputs": [],
   "source": [
    "consulta = m.queries[1]\n",
    "print(consulta)"
   ]
  },
  {
   "cell_type": "code",
   "execution_count": null,
   "metadata": {},
   "outputs": [],
   "source": [
    "def view_trainadores(limite=None):\n",
    "    treinadores = (\n",
    "        Trainer.objects\n",
    "        .select_related(\"favorite_pokemon\")\n",
    "        .prefetch_related('pokemons')\n",
    "        .all()\n",
    "    )\n",
    "    \n",
    "    if limite:\n",
    "        treinadores = treinadores[:limite]\n",
    "        \n",
    "    render('trainers.html', context={'trainers': treinadores})\n",
    "    \n",
    "\n",
    "with count_queries():\n",
    "    view_trainadores(limite=100)"
   ]
  },
  {
   "cell_type": "code",
   "execution_count": null,
   "metadata": {},
   "outputs": [],
   "source": [
    "display_template('trainers.html')"
   ]
  },
  {
   "cell_type": "code",
   "execution_count": null,
   "metadata": {},
   "outputs": [],
   "source": [
    "with count_queries() as m:\n",
    "    treinadores = (\n",
    "        Trainer.objects\n",
    "        .prefetch_related('pokemons')\n",
    "        .all()[:100]\n",
    "    )\n",
    "    \n",
    "    for t in treinadores:\n",
    "        for p in t.pokemons.all():\n",
    "            p.pokemon_kind.name"
   ]
  },
  {
   "cell_type": "code",
   "execution_count": null,
   "metadata": {},
   "outputs": [],
   "source": [
    "with count_queries() as m:\n",
    "    treinadores = (\n",
    "        Trainer.objects\n",
    "        .prefetch_related('pokemons', 'pokemons__pokemon_kind')\n",
    "        .all()[:100]\n",
    "    )\n",
    "    \n",
    "    for t in treinadores:\n",
    "        for p in t.pokemons.all():\n",
    "            p.pokemon_kind.name"
   ]
  },
  {
   "cell_type": "markdown",
   "metadata": {},
   "source": [
    "# Testando as melhorias"
   ]
  },
  {
   "cell_type": "code",
   "execution_count": null,
   "metadata": {},
   "outputs": [],
   "source": [
    "def view_trainadores(limite=None):\n",
    "    treinadores = (\n",
    "        Trainer.objects\n",
    "        .select_related('favorite_pokemon')\n",
    "        .prefetch_related('pokemons', 'pokemons__pokemon_kind')\n",
    "        .all()\n",
    "    )\n",
    "        \n",
    "    render('trainers.html', context={'trainers': treinadores})\n",
    "    \n",
    "\n",
    "with count_queries():\n",
    "    view_trainadores()"
   ]
  },
  {
   "cell_type": "code",
   "execution_count": null,
   "metadata": {},
   "outputs": [],
   "source": [
    "timeit(view_trainadores)"
   ]
  },
  {
   "cell_type": "markdown",
   "metadata": {},
   "source": [
    "# Delegando o trabalho para o Banco de dados"
   ]
  },
  {
   "cell_type": "code",
   "execution_count": null,
   "metadata": {},
   "outputs": [],
   "source": [
    "def calcular_medias():\n",
    "    treinadores = (\n",
    "        Trainer.objects\n",
    "        .prefetch_related('pokemons')\n",
    "        .all()\n",
    "    )\n",
    "\n",
    "    for treinador in treinadores:\n",
    "        pokemons = treinador.pokemons.all()\n",
    "        treinador.avg_level = (\n",
    "            sum([p.pokelevel for p in pokemons]) \n",
    "            / len(pokemons)\n",
    "        ) if pokemons else 0\n",
    "        \n",
    "    return treinadores\n",
    "\n",
    "\n",
    "timeit(calcular_medias)"
   ]
  },
  {
   "cell_type": "code",
   "execution_count": null,
   "metadata": {},
   "outputs": [],
   "source": [
    "from django.db.models import Avg\n",
    "\n",
    "def calcular_medias():\n",
    "    return list(\n",
    "        Trainer.objects\n",
    "        .annotate(avg_level=Avg('pokemons__pokelevel'))\n",
    "        .all()\n",
    "    )\n",
    "\n",
    "treinadores = calcular_medias()\n",
    "\n",
    "print(f'Treinador: {treinadores[0].name}')\n",
    "print(f'Média de level: {treinadores[0].avg_level}')"
   ]
  },
  {
   "cell_type": "code",
   "execution_count": null,
   "metadata": {},
   "outputs": [],
   "source": [
    "timeit(calcular_medias)\n",
    "\n",
    "with count_queries() as m:\n",
    "    treinadores = calcular_medias()\n",
    "\n",
    "print(m.queries)\n",
    "print(f'Treinador: {treinadores[0].name}')\n",
    "print(f'Média de level: {treinadores[0].avg_level}')"
   ]
  },
  {
   "cell_type": "markdown",
   "metadata": {},
   "source": [
    "# Escrevendo Testes"
   ]
  },
  {
   "cell_type": "markdown",
   "metadata": {},
   "source": [
    "1. Instancie um objeto da forma mais completa possível (atenção para relacionamentos)\n",
    "2. Teste o número de queries ao banco de dados.\n",
    "3. Instancie um novo objeto.\n",
    "4. Teste o número de queries ao banco de dados permanece o mesmo.\n",
    "\n",
    "``` python\n",
    "from django.test import TestCase\n",
    "\n",
    "class TestView(TestCase):\n",
    "    \n",
    "    def test_number_of_queries(self):\n",
    "        trainer1 = Trainer.objects.create(name=\"New\")\n",
    "        charizard = PokemonKind.objects.get(id=333)\n",
    "        Pokemon.objects.create(\n",
    "            trainer=trainer1, \n",
    "            pokemon_kind=charizard,\n",
    "        )\n",
    "        \n",
    "        with self.assertNumQueries(2):\n",
    "            calcular_medias()\n",
    "            \n",
    "        trainer2 = Trainer.objects.create(name=\"Other\")\n",
    "        bulbasaur = PokemonKind.objects.get(id=222)\n",
    "        Pokemon.objects.create(\n",
    "            trainer=trainer2, \n",
    "            pokemon_kind=bulbasaur,\n",
    "        )        \n",
    "            \n",
    "        with self.assertNumQueries(2):\n",
    "            calcular_medias()\n",
    "```"
   ]
  }
 ],
 "metadata": {
  "kernelspec": {
   "display_name": "Django Shell-Plus",
   "language": "python",
   "name": "django_extensions"
  },
  "language_info": {
   "codemirror_mode": {
    "name": "ipython",
    "version": 3
   },
   "file_extension": ".py",
   "mimetype": "text/x-python",
   "name": "python",
   "nbconvert_exporter": "python",
   "pygments_lexer": "ipython3",
   "version": "3.6.6"
  }
 },
 "nbformat": 4,
 "nbformat_minor": 2
}
