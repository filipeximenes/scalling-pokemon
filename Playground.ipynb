{
 "cells": [
  {
   "cell_type": "code",
   "execution_count": 1,
   "metadata": {},
   "outputs": [
    {
     "ename": "NameError",
     "evalue": "name 'PokemonKind' is not defined",
     "output_type": "error",
     "traceback": [
      "\u001b[0;31m---------------------------------------------------------------------------\u001b[0m",
      "\u001b[0;31mNameError\u001b[0m                                 Traceback (most recent call last)",
      "\u001b[0;32m<ipython-input-1-3697e137ab79>\u001b[0m in \u001b[0;36m<module>\u001b[0;34m\u001b[0m\n\u001b[1;32m      7\u001b[0m     \u001b[0mrender\u001b[0m\u001b[0;34m(\u001b[0m\u001b[0;34m'pokemon_list.html'\u001b[0m\u001b[0;34m,\u001b[0m \u001b[0mcontext\u001b[0m\u001b[0;34m=\u001b[0m\u001b[0;34m{\u001b[0m\u001b[0;34m'pokemons'\u001b[0m\u001b[0;34m:\u001b[0m \u001b[0mpokemons\u001b[0m\u001b[0;34m}\u001b[0m\u001b[0;34m,\u001b[0m \u001b[0mshow\u001b[0m\u001b[0;34m=\u001b[0m\u001b[0mshow\u001b[0m\u001b[0;34m)\u001b[0m\u001b[0;34m\u001b[0m\u001b[0;34m\u001b[0m\u001b[0m\n\u001b[1;32m      8\u001b[0m \u001b[0;34m\u001b[0m\u001b[0m\n\u001b[0;32m----> 9\u001b[0;31m \u001b[0mview\u001b[0m\u001b[0;34m(\u001b[0m\u001b[0mshow\u001b[0m\u001b[0;34m=\u001b[0m\u001b[0;32mTrue\u001b[0m\u001b[0;34m,\u001b[0m \u001b[0mlimit\u001b[0m\u001b[0;34m=\u001b[0m\u001b[0;36m3\u001b[0m\u001b[0;34m)\u001b[0m\u001b[0;34m\u001b[0m\u001b[0;34m\u001b[0m\u001b[0m\n\u001b[0m",
      "\u001b[0;32m<ipython-input-1-3697e137ab79>\u001b[0m in \u001b[0;36mview\u001b[0;34m(show, limit)\u001b[0m\n\u001b[1;32m      2\u001b[0m \u001b[0;34m\u001b[0m\u001b[0m\n\u001b[1;32m      3\u001b[0m \u001b[0;32mdef\u001b[0m \u001b[0mview\u001b[0m\u001b[0;34m(\u001b[0m\u001b[0mshow\u001b[0m\u001b[0;34m=\u001b[0m\u001b[0;32mFalse\u001b[0m\u001b[0;34m,\u001b[0m \u001b[0mlimit\u001b[0m\u001b[0;34m=\u001b[0m\u001b[0;32mNone\u001b[0m\u001b[0;34m)\u001b[0m\u001b[0;34m:\u001b[0m\u001b[0;34m\u001b[0m\u001b[0;34m\u001b[0m\u001b[0m\n\u001b[0;32m----> 4\u001b[0;31m     \u001b[0mpokemons\u001b[0m \u001b[0;34m=\u001b[0m \u001b[0mPokemonKind\u001b[0m\u001b[0;34m.\u001b[0m\u001b[0mobjects\u001b[0m\u001b[0;34m.\u001b[0m\u001b[0mall\u001b[0m\u001b[0;34m(\u001b[0m\u001b[0;34m)\u001b[0m\u001b[0;34m\u001b[0m\u001b[0;34m\u001b[0m\u001b[0m\n\u001b[0m\u001b[1;32m      5\u001b[0m     \u001b[0;32mif\u001b[0m \u001b[0mlimit\u001b[0m\u001b[0;34m:\u001b[0m\u001b[0;34m\u001b[0m\u001b[0;34m\u001b[0m\u001b[0m\n\u001b[1;32m      6\u001b[0m         \u001b[0mpokemons\u001b[0m \u001b[0;34m=\u001b[0m \u001b[0mpokemons\u001b[0m\u001b[0;34m[\u001b[0m\u001b[0;34m:\u001b[0m\u001b[0mlimit\u001b[0m\u001b[0;34m]\u001b[0m\u001b[0;34m\u001b[0m\u001b[0;34m\u001b[0m\u001b[0m\n",
      "\u001b[0;31mNameError\u001b[0m: name 'PokemonKind' is not defined"
     ]
    }
   ],
   "source": [
    "from utils import *\n",
    "\n",
    "def view(show=False, limit=None):\n",
    "    pokemons = PokemonKind.objects.all()\n",
    "    if limit:\n",
    "        pokemons = pokemons[:limit]\n",
    "    render('pokemon_list.html', context={'pokemons': pokemons}, show=show)\n",
    "    \n",
    "view(show=True, limit=3)"
   ]
  },
  {
   "cell_type": "code",
   "execution_count": 2,
   "metadata": {},
   "outputs": [
    {
     "name": "stdout",
     "output_type": "stream",
     "text": [
      "Number of queries: 1\n",
      "['SELECT \"PokemonKind\".\"id\", \"PokemonKind\".\"name\", \"PokemonKind\".\"type1\", \"PokemonKind\".\"type2\" FROM \"PokemonKind\"']\n"
     ]
    }
   ],
   "source": [
    "with count_queries() as m:\n",
    "    view()\n",
    "\n",
    "print(m.queries)"
   ]
  },
  {
   "cell_type": "code",
   "execution_count": 3,
   "metadata": {},
   "outputs": [
    {
     "name": "stdout",
     "output_type": "stream",
     "text": [
      "Ran in: 0.035661999998410465\n"
     ]
    }
   ],
   "source": [
    "timeit(view)"
   ]
  },
  {
   "cell_type": "code",
   "execution_count": 4,
   "metadata": {},
   "outputs": [
    {
     "data": {
      "text/html": [
       "\n",
       "  Trainer: Swimmer♀ Dawn</br>\n",
       "  \n",
       "    1. Marill</br>\n",
       "  \n",
       "  -------------------------</br>\n",
       "\n",
       "  Trainer: Cipher Admin Ardos</br>\n",
       "  \n",
       "    1. Swellow</br>\n",
       "  \n",
       "    2. Alakazam</br>\n",
       "  \n",
       "    3. Kingdra</br>\n",
       "  \n",
       "    4. Heracross</br>\n",
       "  \n",
       "    5. Electabuzz</br>\n",
       "  \n",
       "    6. Snorlax</br>\n",
       "  \n",
       "  -------------------------</br>\n",
       "\n",
       "  Trainer: Bug Catcher Rob</br>\n",
       "  \n",
       "    1. Beedrill</br>\n",
       "  \n",
       "    2. Butterfree</br>\n",
       "  \n",
       "  -------------------------</br>\n",
       "\n"
      ],
      "text/plain": [
       "<IPython.core.display.HTML object>"
      ]
     },
     "metadata": {},
     "output_type": "display_data"
    }
   ],
   "source": [
    "def trainer_pokemon_view(show=False, limit=5000):\n",
    "    trainers = Trainer.objects.all()\n",
    "    if limit:\n",
    "        trainers = trainers.order_by(\"?\")[:limit]\n",
    "    render('trainer_pokemons.html', context={'trainers': trainers}, show=show)\n",
    "\n",
    "trainer_pokemon_view(show=True, limit=3)"
   ]
  },
  {
   "cell_type": "code",
   "execution_count": 5,
   "metadata": {},
   "outputs": [
    {
     "name": "stdout",
     "output_type": "stream",
     "text": [
      "Number of queries: 11\n"
     ]
    }
   ],
   "source": [
    "with count_queries() as m:\n",
    "    trainer_pokemon_view(limit=10)"
   ]
  },
  {
   "cell_type": "code",
   "execution_count": 6,
   "metadata": {},
   "outputs": [
    {
     "name": "stdout",
     "output_type": "stream",
     "text": [
      "SELECT \"Trainer\".\"id\", \"Trainer\".\"name\" FROM \"Trainer\" ORDER BY RANDOM() ASC  LIMIT 10\n",
      "\n",
      "SELECT \"PokemonKind\".\"id\", \"PokemonKind\".\"name\", \"PokemonKind\".\"type1\", \"PokemonKind\".\"type2\" FROM \"PokemonKind\" INNER JOIN \"Pokemon\" ON (\"PokemonKind\".\"id\" = \"Pokemon\".\"pokemon_kind_id\") WHERE \"Pokemon\".\"trainer_id\" = 9496\n",
      "\n",
      "SELECT \"PokemonKind\".\"id\", \"PokemonKind\".\"name\", \"PokemonKind\".\"type1\", \"PokemonKind\".\"type2\" FROM \"PokemonKind\" INNER JOIN \"Pokemon\" ON (\"PokemonKind\".\"id\" = \"Pokemon\".\"pokemon_kind_id\") WHERE \"Pokemon\".\"trainer_id\" = 5121\n",
      "\n",
      "SELECT \"PokemonKind\".\"id\", \"PokemonKind\".\"name\", \"PokemonKind\".\"type1\", \"PokemonKind\".\"type2\" FROM \"PokemonKind\" INNER JOIN \"Pokemon\" ON (\"PokemonKind\".\"id\" = \"Pokemon\".\"pokemon_kind_id\") WHERE \"Pokemon\".\"trainer_id\" = 7988\n",
      "\n",
      "SELECT \"PokemonKind\".\"id\", \"PokemonKind\".\"name\", \"PokemonKind\".\"type1\", \"PokemonKind\".\"type2\" FROM \"PokemonKind\" INNER JOIN \"Pokemon\" ON (\"PokemonKind\".\"id\" = \"Pokemon\".\"pokemon_kind_id\") WHERE \"Pokemon\".\"trainer_id\" = 5326\n",
      "\n",
      "SELECT \"PokemonKind\".\"id\", \"PokemonKind\".\"name\", \"PokemonKind\".\"type1\", \"PokemonKind\".\"type2\" FROM \"PokemonKind\" INNER JOIN \"Pokemon\" ON (\"PokemonKind\".\"id\" = \"Pokemon\".\"pokemon_kind_id\") WHERE \"Pokemon\".\"trainer_id\" = 11359\n",
      "\n",
      "SELECT \"PokemonKind\".\"id\", \"PokemonKind\".\"name\", \"PokemonKind\".\"type1\", \"PokemonKind\".\"type2\" FROM \"PokemonKind\" INNER JOIN \"Pokemon\" ON (\"PokemonKind\".\"id\" = \"Pokemon\".\"pokemon_kind_id\") WHERE \"Pokemon\".\"trainer_id\" = 700\n",
      "\n",
      "SELECT \"PokemonKind\".\"id\", \"PokemonKind\".\"name\", \"PokemonKind\".\"type1\", \"PokemonKind\".\"type2\" FROM \"PokemonKind\" INNER JOIN \"Pokemon\" ON (\"PokemonKind\".\"id\" = \"Pokemon\".\"pokemon_kind_id\") WHERE \"Pokemon\".\"trainer_id\" = 1498\n",
      "\n",
      "SELECT \"PokemonKind\".\"id\", \"PokemonKind\".\"name\", \"PokemonKind\".\"type1\", \"PokemonKind\".\"type2\" FROM \"PokemonKind\" INNER JOIN \"Pokemon\" ON (\"PokemonKind\".\"id\" = \"Pokemon\".\"pokemon_kind_id\") WHERE \"Pokemon\".\"trainer_id\" = 11548\n",
      "\n",
      "SELECT \"PokemonKind\".\"id\", \"PokemonKind\".\"name\", \"PokemonKind\".\"type1\", \"PokemonKind\".\"type2\" FROM \"PokemonKind\" INNER JOIN \"Pokemon\" ON (\"PokemonKind\".\"id\" = \"Pokemon\".\"pokemon_kind_id\") WHERE \"Pokemon\".\"trainer_id\" = 7187\n",
      "\n",
      "SELECT \"PokemonKind\".\"id\", \"PokemonKind\".\"name\", \"PokemonKind\".\"type1\", \"PokemonKind\".\"type2\" FROM \"PokemonKind\" INNER JOIN \"Pokemon\" ON (\"PokemonKind\".\"id\" = \"Pokemon\".\"pokemon_kind_id\") WHERE \"Pokemon\".\"trainer_id\" = 769\n",
      "\n"
     ]
    }
   ],
   "source": [
    "for q in m.queries:\n",
    "    print(q, end='\\n\\n')"
   ]
  },
  {
   "cell_type": "code",
   "execution_count": 5,
   "metadata": {},
   "outputs": [
    {
     "data": {
      "text/html": [
       "<pre>{% for t in trainers %}\n",
       "  Trainer: {{ t.name }}&lt;/br&gt;\n",
       "  {% for p in t.pokedex.all %}\n",
       "    {{ forloop.counter }}. {{ p.name }}&lt;/br&gt;\n",
       "  {% endfor %}\n",
       "  -------------------------&lt;/br&gt;\n",
       "{% endfor %}\n",
       "</pre>"
      ],
      "text/plain": [
       "<IPython.core.display.HTML object>"
      ]
     },
     "metadata": {},
     "output_type": "display_data"
    }
   ],
   "source": [
    "display_template('trainer_pokemons.html')"
   ]
  },
  {
   "cell_type": "code",
   "execution_count": 8,
   "metadata": {},
   "outputs": [],
   "source": [
    "# timeit(trainer_pokemon_view)"
   ]
  },
  {
   "cell_type": "code",
   "execution_count": 9,
   "metadata": {},
   "outputs": [],
   "source": [
    "%load_ext sql"
   ]
  },
  {
   "cell_type": "code",
   "execution_count": 10,
   "metadata": {},
   "outputs": [
    {
     "data": {
      "text/plain": [
       "'Connected: @pokemon.sqlite'"
      ]
     },
     "execution_count": 10,
     "metadata": {},
     "output_type": "execute_result"
    }
   ],
   "source": [
    "%sql sqlite:///pokemon.sqlite"
   ]
  },
  {
   "cell_type": "code",
   "execution_count": 11,
   "metadata": {},
   "outputs": [
    {
     "name": "stdout",
     "output_type": "stream",
     "text": [
      "SELECT \"PokemonKind\".\"id\", \"PokemonKind\".\"name\", \"PokemonKind\".\"type1\", \"PokemonKind\".\"type2\" FROM \"PokemonKind\" INNER JOIN \"Pokemon\" ON (\"PokemonKind\".\"id\" = \"Pokemon\".\"pokemon_kind_id\") WHERE \"Pokemon\".\"trainer_id\" = 9496\n",
      "\n",
      " * sqlite:///pokemon.sqlite\n",
      "Done.\n"
     ]
    },
    {
     "data": {
      "text/html": [
       "<table>\n",
       "    <tr>\n",
       "        <th>id</th>\n",
       "        <th>name</th>\n",
       "        <th>type1</th>\n",
       "        <th>type2</th>\n",
       "    </tr>\n",
       "    <tr>\n",
       "        <td>30</td>\n",
       "        <td>Bellsprout</td>\n",
       "        <td>Grass</td>\n",
       "        <td>Poison</td>\n",
       "    </tr>\n",
       "</table>"
      ],
      "text/plain": [
       "[(30, 'Bellsprout', 'Grass', 'Poison')]"
      ]
     },
     "execution_count": 11,
     "metadata": {},
     "output_type": "execute_result"
    }
   ],
   "source": [
    "query = m.queries[1]\n",
    "print(query, end='\\n\\n')\n",
    "%sql $query"
   ]
  },
  {
   "cell_type": "code",
   "execution_count": 12,
   "metadata": {},
   "outputs": [
    {
     "name": "stdout",
     "output_type": "stream",
     "text": [
      " * sqlite:///pokemon.sqlite\n",
      "Done.\n"
     ]
    },
    {
     "data": {
      "text/html": [
       "<table>\n",
       "    <tr>\n",
       "        <th>trainer_id</th>\n",
       "        <th>place</th>\n",
       "        <th>pokelevel</th>\n",
       "        <th>hp</th>\n",
       "        <th>maxhp</th>\n",
       "        <th>attack</th>\n",
       "        <th>defense</th>\n",
       "        <th>spatk</th>\n",
       "        <th>spdef</th>\n",
       "        <th>speed</th>\n",
       "        <th>pokemon_kind_id</th>\n",
       "        <th>id</th>\n",
       "        <th>id_1</th>\n",
       "        <th>name</th>\n",
       "        <th>type1</th>\n",
       "        <th>type2</th>\n",
       "    </tr>\n",
       "    <tr>\n",
       "        <td>0</td>\n",
       "        <td>0</td>\n",
       "        <td>60</td>\n",
       "        <td>157</td>\n",
       "        <td>157</td>\n",
       "        <td>50</td>\n",
       "        <td>68</td>\n",
       "        <td>50</td>\n",
       "        <td>80</td>\n",
       "        <td>116</td>\n",
       "        <td>1</td>\n",
       "        <td>1</td>\n",
       "        <td>1</td>\n",
       "        <td>Smeargle</td>\n",
       "        <td>Normal</td>\n",
       "        <td>None</td>\n",
       "    </tr>\n",
       "    <tr>\n",
       "        <td>1</td>\n",
       "        <td>0</td>\n",
       "        <td>30</td>\n",
       "        <td>83</td>\n",
       "        <td>83</td>\n",
       "        <td>27</td>\n",
       "        <td>36</td>\n",
       "        <td>27</td>\n",
       "        <td>42</td>\n",
       "        <td>60</td>\n",
       "        <td>1</td>\n",
       "        <td>2</td>\n",
       "        <td>1</td>\n",
       "        <td>Smeargle</td>\n",
       "        <td>Normal</td>\n",
       "        <td>None</td>\n",
       "    </tr>\n",
       "    <tr>\n",
       "        <td>2</td>\n",
       "        <td>0</td>\n",
       "        <td>57</td>\n",
       "        <td>281</td>\n",
       "        <td>281</td>\n",
       "        <td>128</td>\n",
       "        <td>76</td>\n",
       "        <td>128</td>\n",
       "        <td>76</td>\n",
       "        <td>93</td>\n",
       "        <td>2</td>\n",
       "        <td>3</td>\n",
       "        <td>2</td>\n",
       "        <td>Wailord</td>\n",
       "        <td>Water</td>\n",
       "        <td>None</td>\n",
       "    </tr>\n",
       "    <tr>\n",
       "        <td>2</td>\n",
       "        <td>1</td>\n",
       "        <td>57</td>\n",
       "        <td>173</td>\n",
       "        <td>173</td>\n",
       "        <td>116</td>\n",
       "        <td>122</td>\n",
       "        <td>150</td>\n",
       "        <td>128</td>\n",
       "        <td>82</td>\n",
       "        <td>3</td>\n",
       "        <td>4</td>\n",
       "        <td>3</td>\n",
       "        <td>Vileplume</td>\n",
       "        <td>Grass</td>\n",
       "        <td>Poison</td>\n",
       "    </tr>\n",
       "    <tr>\n",
       "        <td>3</td>\n",
       "        <td>0</td>\n",
       "        <td>47</td>\n",
       "        <td>144</td>\n",
       "        <td>144</td>\n",
       "        <td>139</td>\n",
       "        <td>115</td>\n",
       "        <td>87</td>\n",
       "        <td>97</td>\n",
       "        <td>64</td>\n",
       "        <td>4</td>\n",
       "        <td>5</td>\n",
       "        <td>4</td>\n",
       "        <td>Armaldo</td>\n",
       "        <td>Rock</td>\n",
       "        <td>Bug</td>\n",
       "    </tr>\n",
       "    <tr>\n",
       "        <td>3</td>\n",
       "        <td>1</td>\n",
       "        <td>47</td>\n",
       "        <td>154</td>\n",
       "        <td>154</td>\n",
       "        <td>98</td>\n",
       "        <td>113</td>\n",
       "        <td>98</td>\n",
       "        <td>122</td>\n",
       "        <td>62</td>\n",
       "        <td>5</td>\n",
       "        <td>6</td>\n",
       "        <td>5</td>\n",
       "        <td>Cradily</td>\n",
       "        <td>Rock</td>\n",
       "        <td>Grass</td>\n",
       "    </tr>\n",
       "    <tr>\n",
       "        <td>4</td>\n",
       "        <td>0</td>\n",
       "        <td>56</td>\n",
       "        <td>170</td>\n",
       "        <td>170</td>\n",
       "        <td>165</td>\n",
       "        <td>137</td>\n",
       "        <td>103</td>\n",
       "        <td>114</td>\n",
       "        <td>75</td>\n",
       "        <td>4</td>\n",
       "        <td>7</td>\n",
       "        <td>4</td>\n",
       "        <td>Armaldo</td>\n",
       "        <td>Rock</td>\n",
       "        <td>Bug</td>\n",
       "    </tr>\n",
       "    <tr>\n",
       "        <td>4</td>\n",
       "        <td>1</td>\n",
       "        <td>56</td>\n",
       "        <td>182</td>\n",
       "        <td>182</td>\n",
       "        <td>115</td>\n",
       "        <td>133</td>\n",
       "        <td>115</td>\n",
       "        <td>145</td>\n",
       "        <td>73</td>\n",
       "        <td>5</td>\n",
       "        <td>8</td>\n",
       "        <td>5</td>\n",
       "        <td>Cradily</td>\n",
       "        <td>Rock</td>\n",
       "        <td>Grass</td>\n",
       "    </tr>\n",
       "    <tr>\n",
       "        <td>5</td>\n",
       "        <td>0</td>\n",
       "        <td>21</td>\n",
       "        <td>57</td>\n",
       "        <td>57</td>\n",
       "        <td>50</td>\n",
       "        <td>20</td>\n",
       "        <td>39</td>\n",
       "        <td>20</td>\n",
       "        <td>39</td>\n",
       "        <td>6</td>\n",
       "        <td>9</td>\n",
       "        <td>6</td>\n",
       "        <td>Carvanha</td>\n",
       "        <td>Water</td>\n",
       "        <td>Dark</td>\n",
       "    </tr>\n",
       "    <tr>\n",
       "        <td>5</td>\n",
       "        <td>1</td>\n",
       "        <td>21</td>\n",
       "        <td>63</td>\n",
       "        <td>63</td>\n",
       "        <td>37</td>\n",
       "        <td>29</td>\n",
       "        <td>39</td>\n",
       "        <td>31</td>\n",
       "        <td>27</td>\n",
       "        <td>7</td>\n",
       "        <td>10</td>\n",
       "        <td>7</td>\n",
       "        <td>Numel</td>\n",
       "        <td>Fire</td>\n",
       "        <td>Ground</td>\n",
       "    </tr>\n",
       "</table>"
      ],
      "text/plain": [
       "[(0, 0, 60, 157, 157, 50, 68, 50, 80, 116, 1, 1, 1, 'Smeargle', 'Normal', 'None'),\n",
       " (1, 0, 30, 83, 83, 27, 36, 27, 42, 60, 1, 2, 1, 'Smeargle', 'Normal', 'None'),\n",
       " (2, 0, 57, 281, 281, 128, 76, 128, 76, 93, 2, 3, 2, 'Wailord', 'Water', 'None'),\n",
       " (2, 1, 57, 173, 173, 116, 122, 150, 128, 82, 3, 4, 3, 'Vileplume', 'Grass', 'Poison'),\n",
       " (3, 0, 47, 144, 144, 139, 115, 87, 97, 64, 4, 5, 4, 'Armaldo', 'Rock', 'Bug'),\n",
       " (3, 1, 47, 154, 154, 98, 113, 98, 122, 62, 5, 6, 5, 'Cradily', 'Rock', 'Grass'),\n",
       " (4, 0, 56, 170, 170, 165, 137, 103, 114, 75, 4, 7, 4, 'Armaldo', 'Rock', 'Bug'),\n",
       " (4, 1, 56, 182, 182, 115, 133, 115, 145, 73, 5, 8, 5, 'Cradily', 'Rock', 'Grass'),\n",
       " (5, 0, 21, 57, 57, 50, 20, 39, 20, 39, 6, 9, 6, 'Carvanha', 'Water', 'Dark'),\n",
       " (5, 1, 21, 63, 63, 37, 29, 39, 31, 27, 7, 10, 7, 'Numel', 'Fire', 'Ground')]"
      ]
     },
     "execution_count": 12,
     "metadata": {},
     "output_type": "execute_result"
    }
   ],
   "source": [
    "%sql SELECT * FROM \"Pokemon\" INNER JOIN \"PokemonKind\" ON (\"PokemonKind\".\"id\" = \"Pokemon\".\"pokemon_kind_id\") LIMIT 10"
   ]
  },
  {
   "cell_type": "code",
   "execution_count": 17,
   "metadata": {},
   "outputs": [],
   "source": [
    "with open('utils.py', 'r') as f:\n",
    "    get_ipython().set_next_input(f.read())"
   ]
  },
  {
   "cell_type": "code",
   "execution_count": null,
   "metadata": {},
   "outputs": [],
   "source": [
    "from IPython.core.display import display as idisplay, HTML\n",
    "import pprint\n",
    "from django.template.loader import get_template\n",
    "from django.db import connection\n",
    "import timeit as pytimeit\n",
    "\n",
    "\n",
    "def pretty(*args, **kwargs):\n",
    "    pp = pprint.PrettyPrinter(indent=4)\n",
    "    pp.pprint(*args, **kwargs)\n",
    "\n",
    "\n",
    "def display(html):\n",
    "    idisplay(HTML(html))\n",
    "\n",
    "\n",
    "def show_template(template_name):\n",
    "    template = get_template(template_name)\n",
    "    idisplay(template.template.source)\n",
    "\n",
    "\n",
    "def render(template_name, context, show=False):\n",
    "    template = get_template(template_name)\n",
    "\n",
    "    html = template.render(context=context)\n",
    "\n",
    "    if show:\n",
    "        display(html)\n",
    "\n",
    "\n",
    "def timeit(func):\n",
    "    total = pytimeit.timeit(func, number=1)\n",
    "    print('Ran in:', total)\n",
    "\n",
    "\n",
    "class count_queries:\n",
    "    def __init__(self):\n",
    "        self.queries = []\n",
    "\n",
    "    def __enter__(self):\n",
    "        self.initial = len(connection.queries)\n",
    "        return self\n",
    "\n",
    "    def __exit__(self, *args, **kwargs):\n",
    "        self.queries = [q['sql'] for q in connection.queries[self.initial:]]\n",
    "        print('Number of queries:', len(self.queries))\n"
   ]
  },
  {
   "cell_type": "code",
   "execution_count": null,
   "metadata": {},
   "outputs": [],
   "source": []
  }
 ],
 "metadata": {
  "kernelspec": {
   "display_name": "Python 3",
   "language": "python",
   "name": "python3"
  },
  "language_info": {
   "codemirror_mode": {
    "name": "ipython",
    "version": 3
   },
   "file_extension": ".py",
   "mimetype": "text/x-python",
   "name": "python",
   "nbconvert_exporter": "python",
   "pygments_lexer": "ipython3",
   "version": "3.6.9"
  }
 },
 "nbformat": 4,
 "nbformat_minor": 2
}
