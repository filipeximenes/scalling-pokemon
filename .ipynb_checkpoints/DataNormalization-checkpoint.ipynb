{
 "cells": [
  {
   "cell_type": "code",
   "execution_count": 1,
   "metadata": {},
   "outputs": [],
   "source": [
    "import sqlite3\n",
    "\n",
    "c = sqlite3.connect('pokemon.sqlite')"
   ]
  },
  {
   "cell_type": "code",
   "execution_count": 14,
   "metadata": {},
   "outputs": [],
   "source": [
    "with c:\n",
    "    c.execute('DELETE FROM Pokemon')"
   ]
  },
  {
   "cell_type": "code",
   "execution_count": 17,
   "metadata": {},
   "outputs": [],
   "source": [
    "relationship = c.execute('SELECT pokename, type1, type2 from TrainerPokemon')\n",
    "\n",
    "with c:\n",
    "    for pkm_data in relationship:\n",
    "        q = c.execute('SELECT name FROM Pokemon WHERE name=?', [pkm_data[0]])\n",
    "        pkm = q.fetchone()\n",
    "        if pkm:\n",
    "            continue\n",
    "        c.execute('INSERT INTO Pokemon(name, type1, type2) VALUES(?, ?, ?)', pkm_data)\n",
    "    "
   ]
  },
  {
   "cell_type": "code",
   "execution_count": 20,
   "metadata": {},
   "outputs": [],
   "source": [
    "relationship = c.execute('SELECT id, name from Pokemon')\n",
    "\n",
    "with c:\n",
    "    for pkm_id, name in relationship:\n",
    "        c.execute('UPDATE TrainerPokemon SET pokemonID=? WHERE pokename=?', (pkm_id, name))"
   ]
  },
  {
   "cell_type": "code",
   "execution_count": null,
   "metadata": {},
   "outputs": [],
   "source": []
  }
 ],
 "metadata": {
  "kernelspec": {
   "display_name": "Python 3",
   "language": "python",
   "name": "python3"
  },
  "language_info": {
   "codemirror_mode": {
    "name": "ipython",
    "version": 3
   },
   "file_extension": ".py",
   "mimetype": "text/x-python",
   "name": "python",
   "nbconvert_exporter": "python",
   "pygments_lexer": "ipython3",
   "version": "3.6.6"
  }
 },
 "nbformat": 4,
 "nbformat_minor": 2
}
