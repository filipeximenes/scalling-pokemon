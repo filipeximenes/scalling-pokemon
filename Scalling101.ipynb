{
 "cells": [
  {
   "cell_type": "code",
   "execution_count": 33,
   "metadata": {},
   "outputs": [
    {
     "name": "stdout",
     "output_type": "stream",
     "text": [
      "The sql extension is already loaded. To reload it, use:\n",
      "  %reload_ext sql\n"
     ]
    }
   ],
   "source": [
    "%load_ext sql\n",
    "%sql sqlite:///pokemon.sqlite\n",
    "from utils import *"
   ]
  },
  {
   "cell_type": "code",
   "execution_count": 40,
   "metadata": {},
   "outputs": [],
   "source": [
    "def view_trainadores(limite=None, mostrar=False):\n",
    "    treinadores = Trainer.objects.all()\n",
    "    if limite:\n",
    "        treinadores = treinadores[:limite]\n",
    "        \n",
    "    for treinador in treinadores:\n",
    "        pokemons = treinador.pokemons.all()\n",
    "        treinador.avg_level = (\n",
    "            sum([p.pokelevel for p in pokemons]) \n",
    "            / len(pokemons)\n",
    "        ) if pokemons else 0\n",
    "        \n",
    "    render('trainers.html', context={'trainers': treinadores}, show=mostrar)"
   ]
  },
  {
   "cell_type": "code",
   "execution_count": 35,
   "metadata": {},
   "outputs": [
    {
     "data": {
      "text/html": [
       "\n",
       "  <strong>Nome:</strong> A-list Actor Alonso</br>\n",
       "  <strong>Pokemon Favorito:</strong> Hitmonlee</br>\n",
       "  <strong>Level médio dos Pokemons:</strong> 60.0</br>\n",
       "  <strong>Lista de Pokemons:</strong></br>\n",
       "  \n",
       "    1. Smeargle (Lv. 60)</br>\n",
       "  \n",
       "  ---------------------------------------</br>\n",
       "\n",
       "  <strong>Nome:</strong> A-list Actor Ricardo</br>\n",
       "  <strong>Pokemon Favorito:</strong> Archeops</br>\n",
       "  <strong>Level médio dos Pokemons:</strong> 30.0</br>\n",
       "  <strong>Lista de Pokemons:</strong></br>\n",
       "  \n",
       "    1. Smeargle (Lv. 30)</br>\n",
       "  \n",
       "  ---------------------------------------</br>\n",
       "\n",
       "  <strong>Nome:</strong> Ace Duo Elina &amp; Sean</br>\n",
       "  <strong>Pokemon Favorito:</strong> Latios</br>\n",
       "  <strong>Level médio dos Pokemons:</strong> 57.0</br>\n",
       "  <strong>Lista de Pokemons:</strong></br>\n",
       "  \n",
       "    1. Wailord (Lv. 57)</br>\n",
       "  \n",
       "    2. Vileplume (Lv. 57)</br>\n",
       "  \n",
       "  ---------------------------------------</br>\n",
       "\n"
      ],
      "text/plain": [
       "<IPython.core.display.HTML object>"
      ]
     },
     "metadata": {},
     "output_type": "display_data"
    }
   ],
   "source": [
    "# Visualizando o que a view retorna\n",
    "\n",
    "view_trainadores(limite=3, mostrar=True)"
   ]
  },
  {
   "cell_type": "code",
   "execution_count": 36,
   "metadata": {},
   "outputs": [
    {
     "data": {
      "text/plain": [
       "11860"
      ]
     },
     "execution_count": 36,
     "metadata": {},
     "output_type": "execute_result"
    }
   ],
   "source": [
    "Trainer.objects.count()"
   ]
  },
  {
   "cell_type": "code",
   "execution_count": null,
   "metadata": {},
   "outputs": [],
   "source": [
    "timeit(view_trainadores)"
   ]
  },
  {
   "cell_type": "markdown",
   "metadata": {},
   "source": [
    "# Investigando a quantidade de consultas ao Banco de Dados"
   ]
  },
  {
   "cell_type": "code",
   "execution_count": 41,
   "metadata": {},
   "outputs": [
    {
     "name": "stdout",
     "output_type": "stream",
     "text": [
      "Number of queries: 528\n"
     ]
    }
   ],
   "source": [
    "with count_queries():\n",
    "    view_trainadores(limite=100)"
   ]
  },
  {
   "cell_type": "code",
   "execution_count": null,
   "metadata": {},
   "outputs": [],
   "source": [
    "display_template('trainers.html')"
   ]
  },
  {
   "cell_type": "code",
   "execution_count": null,
   "metadata": {},
   "outputs": [],
   "source": [
    "with count_queries() as m:\n",
    "    treinadores = Trainer.objects.all()[:100]\n",
    "    \n",
    "    for t in treinadores:\n",
    "        t.favorite_pokemon.name\n",
    "        \n",
    "pretty(m.queries[:10])"
   ]
  },
  {
   "cell_type": "code",
   "execution_count": null,
   "metadata": {},
   "outputs": [],
   "source": [
    "consulta_treinadores = m.queries[0]\n",
    "print(consulta_treinadores)"
   ]
  },
  {
   "cell_type": "code",
   "execution_count": null,
   "metadata": {},
   "outputs": [],
   "source": [
    "%sql $consulta_treinadores"
   ]
  },
  {
   "cell_type": "code",
   "execution_count": null,
   "metadata": {},
   "outputs": [],
   "source": [
    "consulta_pokemon = m.queries[1]\n",
    "print(consulta_pokemon)"
   ]
  },
  {
   "cell_type": "code",
   "execution_count": null,
   "metadata": {},
   "outputs": [],
   "source": [
    "%sql $consulta_pokemon"
   ]
  },
  {
   "cell_type": "code",
   "execution_count": null,
   "metadata": {},
   "outputs": [],
   "source": [
    "query = (\n",
    "    'SELECT * '\n",
    "    'FROM \"Trainer\" LEFT OUTER JOIN \"PokemonKind\"'\n",
    "    'ON (\"Trainer\".\"favorite_pokemon_id\" = \"PokemonKind\".\"id\")'\n",
    "    'LIMIT 100'\n",
    ")\n",
    "%sql $query"
   ]
  },
  {
   "cell_type": "code",
   "execution_count": null,
   "metadata": {},
   "outputs": [],
   "source": [
    "with count_queries() as m:\n",
    "    treinadores = Trainer.objects.select_related('favorite_pokemon').all()[:100]\n",
    "    \n",
    "    for t in treinadores:\n",
    "        t.favorite_pokemon.name\n",
    "        \n",
    "print(m.queries[0])"
   ]
  },
  {
   "cell_type": "code",
   "execution_count": 38,
   "metadata": {},
   "outputs": [],
   "source": [
    "def view_trainadores(limite=None):\n",
    "    treinadores = Trainer.objects.select_related(\"favorite_pokemon\").all()\n",
    "    \n",
    "    if limite:\n",
    "        treinadores = treinadores[:limite]\n",
    "        \n",
    "    for treinador in treinadores:\n",
    "        pokemons = treinador.pokemons.all()\n",
    "        treinador.avg_level = (\n",
    "            sum([p.pokelevel for p in pokemons]) \n",
    "            / len(pokemons)\n",
    "        ) if pokemons else 0\n",
    "        \n",
    "    render('trainers.html', context={'trainers': treinadores})"
   ]
  },
  {
   "cell_type": "code",
   "execution_count": 39,
   "metadata": {},
   "outputs": [
    {
     "name": "stdout",
     "output_type": "stream",
     "text": [
      "Number of queries: 428\n"
     ]
    }
   ],
   "source": [
    "with count_queries():\n",
    "    view_trainadores(limite=100)"
   ]
  },
  {
   "cell_type": "code",
   "execution_count": null,
   "metadata": {},
   "outputs": [],
   "source": []
  }
 ],
 "metadata": {
  "kernelspec": {
   "display_name": "Django Shell-Plus",
   "language": "python",
   "name": "django_extensions"
  },
  "language_info": {
   "codemirror_mode": {
    "name": "ipython",
    "version": 3
   },
   "file_extension": ".py",
   "mimetype": "text/x-python",
   "name": "python",
   "nbconvert_exporter": "python",
   "pygments_lexer": "ipython3",
   "version": "3.6.6"
  }
 },
 "nbformat": 4,
 "nbformat_minor": 2
}
